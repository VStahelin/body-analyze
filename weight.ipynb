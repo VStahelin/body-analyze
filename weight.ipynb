{
 "cells": [
  {
   "cell_type": "code",
   "execution_count": 16,
   "metadata": {},
   "outputs": [],
   "source": [
    "import pandas as pd\n",
    "import matplotlib.pyplot as plt\n",
    "import seaborn as sns \n",
    "import sqlite3\n",
    "from datetime import datetime\n",
    "\n",
    "# Create your connection.\n",
    "data_base = sqlite3.connect('data/app-db')\n",
    "data_frame = pd.read_sql_query(\"SELECT * FROM Measurement\", data_base)\n",
    "\n"
   ]
  },
  {
   "cell_type": "code",
   "execution_count": 84,
   "metadata": {},
   "outputs": [
    {
     "data": {
      "text/plain": [
       "0    2022-02-25 11:57:26.035\n",
       "1    2022-03-01 12:17:19.859\n",
       "2    2022-03-01 22:20:13.728\n",
       "3    2022-03-03 19:48:44.033\n",
       "4    2022-01-03 19:49:07.492\n",
       "               ...          \n",
       "85   2022-10-29 12:12:22.211\n",
       "86   2022-11-11 13:18:23.634\n",
       "87   2022-11-14 18:47:12.741\n",
       "88   2022-11-15 16:36:06.790\n",
       "89   2022-11-16 16:47:10.230\n",
       "Name: date, Length: 90, dtype: datetime64[ns]"
      ]
     },
     "metadata": {},
     "output_type": "display_data"
    }
   ],
   "source": [
    "data_frame['date'] = data_frame['timestamp'].values.astype(dtype='datetime64[ms]')\n",
    "display(data_frame['date'])"
   ]
  },
  {
   "cell_type": "code",
   "execution_count": 85,
   "metadata": {},
   "outputs": [
    {
     "data": {
      "text/html": [
       "<div>\n",
       "<style scoped>\n",
       "    .dataframe tbody tr th:only-of-type {\n",
       "        vertical-align: middle;\n",
       "    }\n",
       "\n",
       "    .dataframe tbody tr th {\n",
       "        vertical-align: top;\n",
       "    }\n",
       "\n",
       "    .dataframe thead th {\n",
       "        text-align: right;\n",
       "    }\n",
       "</style>\n",
       "<table border=\"1\" class=\"dataframe\">\n",
       "  <thead>\n",
       "    <tr style=\"text-align: right;\">\n",
       "      <th></th>\n",
       "      <th>id</th>\n",
       "      <th>timestamp</th>\n",
       "      <th>valueKg</th>\n",
       "      <th>valueLbs</th>\n",
       "      <th>valueStones</th>\n",
       "      <th>note</th>\n",
       "      <th>bmi</th>\n",
       "      <th>heightCm</th>\n",
       "      <th>heightInch</th>\n",
       "      <th>photoUri</th>\n",
       "      <th>synced</th>\n",
       "      <th>fatPerc</th>\n",
       "      <th>customBmi</th>\n",
       "      <th>customFatPerc</th>\n",
       "      <th>date</th>\n",
       "    </tr>\n",
       "  </thead>\n",
       "  <tbody>\n",
       "    <tr>\n",
       "      <th>0</th>\n",
       "      <td>1</td>\n",
       "      <td>1645790246035</td>\n",
       "      <td>180.0</td>\n",
       "      <td>396.832072</td>\n",
       "      <td>28.345148</td>\n",
       "      <td>Welcome to your Weight Diary.</td>\n",
       "      <td>48.828125</td>\n",
       "      <td>192.0</td>\n",
       "      <td>75.590551</td>\n",
       "      <td>None</td>\n",
       "      <td>0</td>\n",
       "      <td>47.683750</td>\n",
       "      <td>0</td>\n",
       "      <td>0</td>\n",
       "      <td>2022-02-25 11:57:26.035</td>\n",
       "    </tr>\n",
       "    <tr>\n",
       "      <th>1</th>\n",
       "      <td>2</td>\n",
       "      <td>1646137039859</td>\n",
       "      <td>179.0</td>\n",
       "      <td>394.627449</td>\n",
       "      <td>28.187675</td>\n",
       "      <td>None</td>\n",
       "      <td>48.556858</td>\n",
       "      <td>192.0</td>\n",
       "      <td>75.590551</td>\n",
       "      <td>None</td>\n",
       "      <td>0</td>\n",
       "      <td>47.358229</td>\n",
       "      <td>0</td>\n",
       "      <td>0</td>\n",
       "      <td>2022-03-01 12:17:19.859</td>\n",
       "    </tr>\n",
       "    <tr>\n",
       "      <th>2</th>\n",
       "      <td>3</td>\n",
       "      <td>1646173213728</td>\n",
       "      <td>178.5</td>\n",
       "      <td>393.525138</td>\n",
       "      <td>28.108938</td>\n",
       "      <td>None</td>\n",
       "      <td>48.421224</td>\n",
       "      <td>192.0</td>\n",
       "      <td>75.590551</td>\n",
       "      <td>None</td>\n",
       "      <td>0</td>\n",
       "      <td>47.195469</td>\n",
       "      <td>0</td>\n",
       "      <td>0</td>\n",
       "      <td>2022-03-01 22:20:13.728</td>\n",
       "    </tr>\n",
       "    <tr>\n",
       "      <th>3</th>\n",
       "      <td>4</td>\n",
       "      <td>1646336924033</td>\n",
       "      <td>176.8</td>\n",
       "      <td>389.777280</td>\n",
       "      <td>27.841234</td>\n",
       "      <td>None</td>\n",
       "      <td>47.960069</td>\n",
       "      <td>192.0</td>\n",
       "      <td>75.590551</td>\n",
       "      <td>None</td>\n",
       "      <td>0</td>\n",
       "      <td>46.642083</td>\n",
       "      <td>0</td>\n",
       "      <td>0</td>\n",
       "      <td>2022-03-03 19:48:44.033</td>\n",
       "    </tr>\n",
       "    <tr>\n",
       "      <th>4</th>\n",
       "      <td>5</td>\n",
       "      <td>1641239347492</td>\n",
       "      <td>190.0</td>\n",
       "      <td>418.878298</td>\n",
       "      <td>29.919878</td>\n",
       "      <td>None</td>\n",
       "      <td>51.540799</td>\n",
       "      <td>192.0</td>\n",
       "      <td>75.590551</td>\n",
       "      <td>/data/user/0/com.selantoapps.weightdiary/files...</td>\n",
       "      <td>0</td>\n",
       "      <td>50.938958</td>\n",
       "      <td>0</td>\n",
       "      <td>0</td>\n",
       "      <td>2022-01-03 19:49:07.492</td>\n",
       "    </tr>\n",
       "  </tbody>\n",
       "</table>\n",
       "</div>"
      ],
      "text/plain": [
       "   id      timestamp  valueKg    valueLbs  valueStones  \\\n",
       "0   1  1645790246035    180.0  396.832072    28.345148   \n",
       "1   2  1646137039859    179.0  394.627449    28.187675   \n",
       "2   3  1646173213728    178.5  393.525138    28.108938   \n",
       "3   4  1646336924033    176.8  389.777280    27.841234   \n",
       "4   5  1641239347492    190.0  418.878298    29.919878   \n",
       "\n",
       "                            note        bmi  heightCm  heightInch  \\\n",
       "0  Welcome to your Weight Diary.  48.828125     192.0   75.590551   \n",
       "1                           None  48.556858     192.0   75.590551   \n",
       "2                           None  48.421224     192.0   75.590551   \n",
       "3                           None  47.960069     192.0   75.590551   \n",
       "4                           None  51.540799     192.0   75.590551   \n",
       "\n",
       "                                            photoUri  synced    fatPerc  \\\n",
       "0                                               None       0  47.683750   \n",
       "1                                               None       0  47.358229   \n",
       "2                                               None       0  47.195469   \n",
       "3                                               None       0  46.642083   \n",
       "4  /data/user/0/com.selantoapps.weightdiary/files...       0  50.938958   \n",
       "\n",
       "   customBmi  customFatPerc                    date  \n",
       "0          0              0 2022-02-25 11:57:26.035  \n",
       "1          0              0 2022-03-01 12:17:19.859  \n",
       "2          0              0 2022-03-01 22:20:13.728  \n",
       "3          0              0 2022-03-03 19:48:44.033  \n",
       "4          0              0 2022-01-03 19:49:07.492  "
      ]
     },
     "metadata": {},
     "output_type": "display_data"
    }
   ],
   "source": [
    "display(data_frame.head())"
   ]
  },
  {
   "cell_type": "code",
   "execution_count": 86,
   "metadata": {},
   "outputs": [
    {
     "data": {
      "text/plain": [
       "<AxesSubplot: xlabel='date', ylabel='valueKg'>"
      ]
     },
     "execution_count": 86,
     "metadata": {},
     "output_type": "execute_result"
    },
    {
     "data": {
      "image/png": "[encoded data removed]",
      "text/plain": [
       "<Figure size 1200x500 with 1 Axes>"
      ]
     },
     "metadata": {},
     "output_type": "display_data"
    }
   ],
   "source": [
    "plt.figure(figsize=(12,5))\n",
    "sns.lineplot(\n",
    "    data=data_frame,\n",
    "    label=\"valueKg\",\n",
    "    x=\"date\",\n",
    "    y=\"valueKg\"\n",
    ")"
   ]
  }
 ],
 "metadata": {
  "kernelspec": {
   "display_name": "Python 3.10.1 64-bit",
   "language": "python",
   "name": "python3"
  },
  "language_info": {
   "codemirror_mode": {
    "name": "ipython",
    "version": 3
   },
   "file_extension": ".py",
   "mimetype": "text/x-python",
   "name": "python",
   "nbconvert_exporter": "python",
   "pygments_lexer": "ipython3",
   "version": "3.10.1"
  },
  "orig_nbformat": 4,
  "vscode": {
   "interpreter": {
    "hash": "41b4ef2cabe751318fc6c2168c88161bf2b1a68679c7330e89f8ac1e75150f90"
   }
  }
 },
 "nbformat": 4,
 "nbformat_minor": 2
}
